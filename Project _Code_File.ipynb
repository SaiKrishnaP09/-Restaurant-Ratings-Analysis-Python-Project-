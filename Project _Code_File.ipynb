This Jupyter Notebook contains the core data analysis performed for the Restaurant Ratings Analysis project. The key tasks included:


🔄 Data Import & Inspection
  Loaded the dataset and performed basic structural checks using Pandas.

🧹 Data Cleaning
  Removed null values and duplicates
  Standardized column formats and cleaned cost fields
  Converted data types for analysis (e.g., strings to floats/integers)

📊 Exploratory Data Analysis (EDA)
  Identified top cities and localities by restaurant count
  Analyzed cuisine preferences across regions
  Evaluated rating distributions and average costs
  Correlated ratings with services like table booking and delivery

📈 Visualizations
Used Matplotlib and Seaborn to generate bar plots, pie charts, and histograms for insights.

📍 Business Recommendations
Generated data-driven suggestions for:
  Ideal launch city (New Delhi)
  Best cuisine strategy (Indian-Chinese fusion)
  Target price range and key service offerings




